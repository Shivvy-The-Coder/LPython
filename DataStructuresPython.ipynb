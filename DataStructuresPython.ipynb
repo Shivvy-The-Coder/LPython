{
 "cells": [
  {
   "cell_type": "code",
   "execution_count": 5,
   "id": "478dfee1-7fa3-4ead-86e2-f95afed961d8",
   "metadata": {},
   "outputs": [
    {
     "name": "stdout",
     "output_type": "stream",
     "text": [
      "\n",
      "    this is \n",
      "    shivam das\n",
      "\n"
     ]
    }
   ],
   "source": [
    "a = \"\"\"\n",
    "    this is \n",
    "    shivam das\n",
    "\"\"\"\n",
    "print(a)"
   ]
  },
  {
   "cell_type": "raw",
   "id": "1874a86f-59e4-49fa-b7f8-6039d20ce229",
   "metadata": {},
   "source": [
    "a=\"jatin\"\n",
    "b=2\n",
    "c=3\n",
    "print(a)"
   ]
  },
  {
   "cell_type": "code",
   "execution_count": 16,
   "id": "8ee8c1d7-f282-442d-84b8-9fb0ff2d66f2",
   "metadata": {},
   "outputs": [
    {
     "name": "stdout",
     "output_type": "stream",
     "text": [
      "       Shivam\n"
     ]
    },
    {
     "name": "stdin",
     "output_type": "stream",
     "text": [
      " 1 2 3 4 5 67 89\n"
     ]
    },
    {
     "data": {
      "text/plain": [
       "['1', '2', '3', '4', '5', '67', '89']"
      ]
     },
     "execution_count": 16,
     "metadata": {},
     "output_type": "execute_result"
    }
   ],
   "source": [
    "a=\"       Shivam\"\n",
    "a.strip()\n",
    "print(a)\n",
    "\n",
    "b= input()\n",
    "b.split(\" \")\n"
   ]
  },
  {
   "cell_type": "code",
   "execution_count": 25,
   "id": "fe2205f9-4c69-460d-86cd-b83a0598242b",
   "metadata": {},
   "outputs": [
    {
     "name": "stdout",
     "output_type": "stream",
     "text": [
      "lhhhhivam\n",
      "4\n"
     ]
    }
   ],
   "source": [
    "a=\"Shhhhivam\"\n",
    "a=a.replace('S' , 'l')\n",
    "print(a)\n",
    "n=a.count('h')\n",
    "print(n)"
   ]
  },
  {
   "cell_type": "code",
   "execution_count": 36,
   "id": "613fa6c5-4fc9-49f2-b7dc-6b569775a84b",
   "metadata": {},
   "outputs": [
    {
     "name": "stdout",
     "output_type": "stream",
     "text": [
      "[1, 2, 3, 4]\n",
      "['Shivam', 1, 23, 1.7]\n",
      "Shivam\n",
      "1\n",
      "23\n",
      "1.7\n"
     ]
    }
   ],
   "source": [
    "a=[1,2,3,4]\n",
    "print(a)\n",
    "a=[\"Shivam\",1,23,1.7]\n",
    "print(a)\n",
    "len(a)\n",
    "a*3\n",
    "\n",
    "# priting(\"an entire list using for loop\")\n",
    "for i in a:\n",
    "    print(i)"
   ]
  },
  {
   "cell_type": "code",
   "execution_count": 46,
   "id": "4460156a-88c8-4cff-a72a-528305c1be77",
   "metadata": {},
   "outputs": [
    {
     "name": "stdout",
     "output_type": "stream",
     "text": [
      "4\n",
      "[2, 3]\n",
      "[4, 3, 2, 1]\n",
      "[1, 2, 2, 3, 4]\n",
      "After poping 1 element\n",
      "B\n",
      "True\n"
     ]
    }
   ],
   "source": [
    "a=[1,2,3,4]\n",
    "print(a[-1])\n",
    "\n",
    "# how to slice in list usng []\n",
    "print(a[1:3])\n",
    "print(a[::-1])\n",
    "\n",
    "\n",
    "# insertinf an element in a list\n",
    "a.insert(1,2)\n",
    "print(a)\n",
    "\n",
    "# removing a elemnt in list\n",
    "print(\"After poping 1 element\")\n",
    "a.pop()\n",
    "\n",
    "print(\"B\") \n",
    "b=\"RACECAR\"\n",
    "if b==b[::-1]:\n",
    "    print(True)"
   ]
  },
  {
   "cell_type": "code",
   "execution_count": 56,
   "id": "b7dea60a-d41b-4e15-9316-cd134af24183",
   "metadata": {},
   "outputs": [
    {
     "name": "stdout",
     "output_type": "stream",
     "text": [
      "(1, 2, 3, 4)\n",
      "9 5\n",
      "5 9\n",
      "9 5\n",
      "5 9\n"
     ]
    }
   ],
   "source": [
    "# following are tuple codes\n",
    "# tuples are immutable, tuples are fast and efficent as compare to list use less space as compare to list, \n",
    "a=(1,2,3,4,5,6)\n",
    "# a[2]=1\n",
    "\n",
    "def func(*args):\n",
    "    print(args)\n",
    "func(1,2,3,4)\n",
    "\n",
    "a=5\n",
    "b=9\n",
    "t=a\n",
    "a=b\n",
    "b=t\n",
    "print(a,b)\n",
    "\n",
    "a=a+b\n",
    "b=a-b\n",
    "a=a-b\n",
    "print(a,b)\n",
    "\n",
    "\n",
    "a=a^b\n",
    "b=a^b\n",
    "a=a^b\n",
    "print(a,b)\n",
    "\n",
    "a,b=b,a\n",
    "print(a,b)"
   ]
  },
  {
   "cell_type": "code",
   "execution_count": 60,
   "id": "7ff2eb47-8419-4461-8523-6a9b8842a1c7",
   "metadata": {},
   "outputs": [
    {
     "name": "stdout",
     "output_type": "stream",
     "text": [
      "(1, 2, 3)\n",
      "['j', 'a', 't', 'i', 'n']\n"
     ]
    }
   ],
   "source": [
    "a=(1,2,3)\n",
    "print(a)\n",
    "a=list(tuple(\"jatin\")) \n",
    "print(a)"
   ]
  },
  {
   "cell_type": "code",
   "execution_count": null,
   "id": "81d93efe-3b1f-45c3-830e-05e0e2c55a94",
   "metadata": {},
   "outputs": [],
   "source": [
    "# returning multiple values form a list\n",
    "def addsubtract(a,b):\n",
    "    retur"
   ]
  }
 ],
 "metadata": {
  "kernelspec": {
   "display_name": "Python 3 (ipykernel)",
   "language": "python",
   "name": "python3"
  },
  "language_info": {
   "codemirror_mode": {
    "name": "ipython",
    "version": 3
   },
   "file_extension": ".py",
   "mimetype": "text/x-python",
   "name": "python",
   "nbconvert_exporter": "python",
   "pygments_lexer": "ipython3",
   "version": "3.13.1"
  }
 },
 "nbformat": 4,
 "nbformat_minor": 5
}
