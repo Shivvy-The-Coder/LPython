{
 "cells": [
  {
   "cell_type": "code",
   "execution_count": 3,
   "id": "a66cc32a-0e4c-421f-a30b-ceadbcfe005e",
   "metadata": {},
   "outputs": [
    {
     "name": "stdout",
     "output_type": "stream",
     "text": [
      "30\n",
      "hi, this is Shivam times 1hi, this is Shivam times 2hi, this is Shivam times 3hi, this is Shivam times 4hi, this is Shivam times 5hi, this is Shivam times 6hi, this is Shivam times 7hi, this is Shivam times 8hi, this is Shivam times 9"
     ]
    }
   ],
   "source": [
    "def sheldon_knock():\n",
    "    print(10+20)\n",
    "    for i in range(1,10,1):\n",
    "        print(\"hi, this is Shivam times\",i, end=\"\")\n",
    "sheldon_knock()"
   ]
  },
  {
   "cell_type": "code",
   "execution_count": 12,
   "id": "2651b22d-4e2a-4922-b963-0e9eb19bb732",
   "metadata": {},
   "outputs": [
    {
     "name": "stdout",
     "output_type": "stream",
     "text": [
      "knock knock penny\n",
      "knock knock penny\n",
      "knock knock penny\n",
      "knock knock penny\n"
     ]
    }
   ],
   "source": [
    "# we are giving a default value for number of times the loop gonna run like here it is 4 times, but user can give argument and print accordingly\n",
    "def sheldon_knock(name,nameOfTimes=4):\n",
    "    for i in range (nameOfTimes):\n",
    "     print(\"knock knock {}\".format(name))\n",
    "\n",
    "sheldon_knock(\"penny\")"
   ]
  },
  {
   "cell_type": "code",
   "execution_count": 15,
   "id": "8dbb90b4-1601-4992-a481-31f514d42e54",
   "metadata": {},
   "outputs": [
    {
     "name": "stdout",
     "output_type": "stream",
     "text": [
      "7\n",
      "9\n",
      "error\n",
      "function has been executed\n"
     ]
    }
   ],
   "source": [
    "# returning something \n",
    "\n",
    "def add (a,b):\n",
    "    print(a+b)\n",
    "add(3,4)\n",
    "\n",
    "def add (a,b):\n",
    "    return(a+b)\n",
    "\n",
    "print(add(4,5))\n",
    "\n",
    "def div(a,b):\n",
    "    try:\n",
    "        return a/b\n",
    "    except:\n",
    "        print('error')\n",
    "    finally:\n",
    "        print(\"function has been executed\")\n",
    "div(3,0)\n"
   ]
  },
  {
   "cell_type": "code",
   "execution_count": 20,
   "id": "efd46724-4b55-40b8-b5ae-5dc9ca5a367b",
   "metadata": {},
   "outputs": [
    {
     "name": "stdout",
     "output_type": "stream",
     "text": [
      "15\n",
      "local\n",
      "15\n"
     ]
    }
   ],
   "source": [
    "# local and global varibale\n",
    "\n",
    "x=10\n",
    "def show ():\n",
    "    global x\n",
    "    x +=5\n",
    "    print(x)\n",
    "show()\n",
    "\n",
    "\n",
    "def show ():\n",
    "    y=\"local\"\n",
    "    print(y)\n",
    "    print(x)\n",
    "show()"
   ]
  },
  {
   "cell_type": "code",
   "execution_count": 26,
   "id": "b3e27807-fc86-437e-957b-f0c963f2ed33",
   "metadata": {},
   "outputs": [],
   "source": [
    "del x"
   ]
  },
  {
   "cell_type": "code",
   "execution_count": 29,
   "id": "54acb169-c112-4ed5-98eb-91ba241e0d09",
   "metadata": {},
   "outputs": [],
   "source": [
    "# function inside of another function\n",
    "def outer():\n",
    "    x=10\n",
    "    def inner():\n",
    "        nonlocal x\n",
    "        x+=5\n",
    "        print(x)\n",
    "    inner()\n",
    "    print(x)\n"
   ]
  },
  {
   "cell_type": "code",
   "execution_count": 30,
   "id": "ad6c02a0-7037-48b7-a193-41ffb7ed590e",
   "metadata": {},
   "outputs": [
    {
     "name": "stdout",
     "output_type": "stream",
     "text": [
      "15\n",
      "15\n"
     ]
    }
   ],
   "source": [
    "outer()"
   ]
  },
  {
   "cell_type": "code",
   "execution_count": 42,
   "id": "93ae628b-977f-427e-9599-c9ee73be05a5",
   "metadata": {},
   "outputs": [],
   "source": [
    "def show(a,b,c,d=\"Something\", e=\"something more\"):\n",
    "    print(a)\n",
    "    print(b)\n",
    "    print(c)\n",
    "    print(d)\n",
    "    print(e)"
   ]
  },
  {
   "cell_type": "code",
   "execution_count": 43,
   "id": "a31b5b99-0361-410c-90a7-7830f4f42990",
   "metadata": {},
   "outputs": [
    {
     "name": "stdout",
     "output_type": "stream",
     "text": [
      "Shivam\n",
      "hello\n",
      "World\n",
      "Something\n",
      "something more\n"
     ]
    }
   ],
   "source": [
    "show(b=\"hello\",c=\"World\",a=\"Shivam\")"
   ]
  },
  {
   "cell_type": "code",
   "execution_count": 37,
   "id": "a98e72e8-ca57-4390-a64f-c6fc1db91963",
   "metadata": {},
   "outputs": [
    {
     "name": "stdout",
     "output_type": "stream",
     "text": [
      "Shivam\n",
      "hello\n",
      "World\n"
     ]
    }
   ],
   "source": [
    "# this is called keyworded arguments\n",
    "show(b=\"hello\",c=\"World\",a=\"Shivam\")"
   ]
  },
  {
   "cell_type": "code",
   "execution_count": null,
   "id": "761a5712-f27f-4f0e-aaea-7fe003357636",
   "metadata": {},
   "outputs": [],
   "source": [
    "print(\"jatin\", \"Shivam\", \"is\", \"a\", \"python\", \"mentor\")"
   ]
  },
  {
   "cell_type": "code",
   "execution_count": 4,
   "id": "24691d47-de62-489e-be3c-df6c2d54d318",
   "metadata": {},
   "outputs": [],
   "source": [
    "#   Kwargs in python\n",
    "def show(*args):\n",
    "    print(args)"
   ]
  },
  {
   "cell_type": "code",
   "execution_count": 5,
   "id": "12f67d31-bb06-4f15-99cf-f9b545e54842",
   "metadata": {},
   "outputs": [
    {
     "name": "stdout",
     "output_type": "stream",
     "text": [
      "('Shivam', 'das', 'is ', 'king')\n"
     ]
    }
   ],
   "source": [
    "show(\"Shivam\", \"das\", \"is \", \"king\")"
   ]
  },
  {
   "cell_type": "markdown",
   "id": "cd6000ae-1154-4bab-8da3-d2b64a11b38f",
   "metadata": {},
   "source": []
  },
  {
   "cell_type": "code",
   "execution_count": 7,
   "id": "870d70f6-5a3d-479b-a7f8-1100187e16a3",
   "metadata": {},
   "outputs": [
    {
     "name": "stdout",
     "output_type": "stream",
     "text": [
      "<function add at 0x000001F5A4E74040>\n"
     ]
    }
   ],
   "source": [
    "# lambda Functions\n",
    "def add():\n",
    "    return 10+10\n",
    "add()\n",
    "print(add)"
   ]
  },
  {
   "cell_type": "code",
   "execution_count": 17,
   "id": "03a9b535-9bef-4486-b654-44d1b73a7a7f",
   "metadata": {},
   "outputs": [
    {
     "name": "stdout",
     "output_type": "stream",
     "text": [
      "[1, 2, 3, 4, 5, 7]\n",
      "[1, 2, 3, 5, 7, 12]\n",
      "[('ram', 1), ('shivam', 4), ('prateek', 10), ('arnav', 20)]\n",
      "[('ram', 1), ('shivam', 4), ('prateek', 10), ('arnav', 20)]\n"
     ]
    }
   ],
   "source": [
    "a=[5,3,7,1,2,4]\n",
    "# a.sort() will sort the list in that list iteself\n",
    "a.sort()\n",
    "print(a)\n",
    "\n",
    "a=[5,3,7,1,2,12]\n",
    "# whereas this will sort the list and requires a new list where it can be stored\n",
    "l=sorted(a)\n",
    "print(l)\n",
    "\n",
    "a=[(\"shivam\",4),(\"prateek\",10),(\"ram\",1),(\"arnav\",20)]\n",
    "# what i want here is that , we want to sort the above data based on the marks each stdet has recieved in their exam\n",
    "\n",
    "def key(x):\n",
    "    return x[1]\n",
    "# herer the x[1] mean 1th index of each tuple present in the 'a' data strcture\n",
    "\n",
    "ans=sorted(a,key=key)\n",
    "print(ans)\n",
    "\n",
    "\n",
    "# now heres a shortcut to do that\n",
    "a=[(\"shivam\",4),(\"prateek\",10),(\"ram\",1),(\"arnav\",20)]\n",
    "ans2=sorted(a, key=lambda x:x[1])\n",
    "print(ans2)"
   ]
  },
  {
   "cell_type": "code",
   "execution_count": null,
   "id": "1b18e94e-37e3-4bc4-a413-801e4761f546",
   "metadata": {},
   "outputs": [],
   "source": []
  },
  {
   "cell_type": "code",
   "execution_count": 29,
   "id": "361d1993-6ad8-4a16-a4cd-864b4a75a4e2",
   "metadata": {},
   "outputs": [
    {
     "name": "stdout",
     "output_type": "stream",
     "text": [
      "failed to Login\n"
     ]
    }
   ],
   "source": [
    "# Authentication function \n",
    "\n",
    "users ={\n",
    "        \"Shivam\":\"1234\",\n",
    "        \"priyanka\":\"1234\"\n",
    "        }\n",
    "\n",
    "def show(username, password):\n",
    "    if username in users and users[username] == password:\n",
    "        print(\"Login Succesfully\")\n",
    "    else:\n",
    "        print(\"failed to Login\")\n",
    "\n",
    "show(\"Shivam\",\"12234\")\n",
    "\n",
    "\n",
    "def login_required(func):\n",
    "    def wrapper (username, password,*args,**kwargs):\n",
    "        if username in users and users[username] == password:\n",
    "            func(*args)\n",
    "        else:\n",
    "            print(\"not Authenticated\")\n",
    "        return wrapper"
   ]
  },
  {
   "cell_type": "code",
   "execution_count": 30,
   "id": "3d4ce37b-f5a5-4d4f-975a-e68f11a95d37",
   "metadata": {},
   "outputs": [],
   "source": [
    "def add(a,b):\n",
    "    print(a+b)"
   ]
  },
  {
   "cell_type": "code",
   "execution_count": 35,
   "id": "712e893c-57da-4563-bd88-e6452ed26199",
   "metadata": {},
   "outputs": [
    {
     "name": "stdout",
     "output_type": "stream",
     "text": [
      "3\n"
     ]
    }
   ],
   "source": [
    "def login_required(func):\n",
    "    def wrapper (username, password,*args,**kwargs):\n",
    "        if username in users and users[username] == password:\n",
    "            func(*args)\n",
    "        else:\n",
    "            print(\"not Authenticated\")\n",
    "    return wrapper\n",
    "def add(a,b):\n",
    "    print(a+b)\n",
    "    \n",
    "protected_add = login_required(add)\n",
    "protected_add(\"Shivam\", \"1234\",1,2)\n"
   ]
  },
  {
   "cell_type": "code",
   "execution_count": null,
   "id": "aa1586c6-348a-41d1-a5cc-bfcffdab4ee1",
   "metadata": {},
   "outputs": [],
   "source": [
    "def login_required(func):\n",
    "    def wrapper (username, password,*args,**kwargs):\n",
    "        if username in users and users[username] == password:\n",
    "            func(*args)\n",
    "        else:\n",
    "            print(\"not Authenticated\")\n",
    "    return wrapper\n",
    "\n",
    "# here  i am goin to use decorators\n",
    "@login_required\n",
    "def add(a,b):\n",
    "    print(a+b)\n",
    "    \n",
    "protected_add = login_required(add)\n",
    "protected_add(\"Shivam\", \"1234\",1,2)"
   ]
  }
 ],
 "metadata": {
  "kernelspec": {
   "display_name": "Python 3 (ipykernel)",
   "language": "python",
   "name": "python3"
  },
  "language_info": {
   "codemirror_mode": {
    "name": "ipython",
    "version": 3
   },
   "file_extension": ".py",
   "mimetype": "text/x-python",
   "name": "python",
   "nbconvert_exporter": "python",
   "pygments_lexer": "ipython3",
   "version": "3.13.1"
  }
 },
 "nbformat": 4,
 "nbformat_minor": 5
}
