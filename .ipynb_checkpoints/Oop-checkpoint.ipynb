{
 "cells": [
  {
   "cell_type": "code",
   "execution_count": 7,
   "id": "3bb3da4c-2dd8-4763-92ec-10dd23965edf",
   "metadata": {},
   "outputs": [
    {
     "name": "stdout",
     "output_type": "stream",
     "text": [
      "<class 'int'>\n",
      "True\n",
      "True\n",
      "True\n",
      "True\n",
      "True\n"
     ]
    }
   ],
   "source": [
    "a=1\n",
    "print(type(a))\n",
    "\n",
    "print(isinstance(a,object))\n",
    "\n",
    "a=\"String\"\n",
    "print(isinstance(a,object))\n",
    "\n",
    "a=1.434\n",
    "print(isinstance(a,object))\n",
    "\n",
    "\n",
    "print(isinstance(print,object))\n",
    "\n",
    "\n",
    "class A:\n",
    "    pass\n",
    "print(isinstance(A,object))\n",
    "\n",
    "print(\"hello this is only for the updATION \")\n",
    "#  everything in python has a flag wether an obhect is callable or not , function object are callable, class object are callable , but int , float object \n",
    "# are not callable in python\n",
    "\n",
    "\n"
   ]
  },
  {
   "cell_type": "code",
   "execution_count": 1,
   "id": "958f4659-587d-467b-8cef-84a8d4117cc8",
   "metadata": {},
   "outputs": [
    {
     "name": "stdout",
     "output_type": "stream",
     "text": [
      "hello , my name is Shivam\n"
     ]
    }
   ],
   "source": [
    "class Person:\n",
    "    name = \"Shivam\"\n",
    "    def say_hi(self):\n",
    "        print(\"hello , my name is\", self.name)\n",
    "\n",
    "# it is a awy of craeating an instance of class like we do in jva a, class pbj = new class();\n",
    "p=Person()\n",
    "p.say_hi()"
   ]
  },
  {
   "cell_type": "code",
   "execution_count": 4,
   "id": "a4cf5315-7b5d-4cf6-a81b-018a73e5fac5",
   "metadata": {},
   "outputs": [
    {
     "name": "stdout",
     "output_type": "stream",
     "text": [
      "hello , my name is Shivam\n"
     ]
    }
   ],
   "source": [
    "class Person:\n",
    "    name = \"Shivam\"\n",
    "    def __init__(self , name):\n",
    "        self.name=name\n",
    "    def say_hi(self):\n",
    "        print(\"Hello , my name is \", self.name)\n",
    "\n",
    "P= Person(\"Shivam\")\n",
    "p.say_hi()\n",
    "        "
   ]
  },
  {
   "cell_type": "code",
   "execution_count": null,
   "id": "46cac48b-e4f1-465c-9382-2b10dbfa3f8d",
   "metadata": {},
   "outputs": [],
   "source": [
    "## DUNDERS or "
   ]
  }
 ],
 "metadata": {
  "kernelspec": {
   "display_name": "Python 3 (ipykernel)",
   "language": "python",
   "name": "python3"
  },
  "language_info": {
   "codemirror_mode": {
    "name": "ipython",
    "version": 3
   },
   "file_extension": ".py",
   "mimetype": "text/x-python",
   "name": "python",
   "nbconvert_exporter": "python",
   "pygments_lexer": "ipython3",
   "version": "3.13.1"
  }
 },
 "nbformat": 4,
 "nbformat_minor": 5
}
