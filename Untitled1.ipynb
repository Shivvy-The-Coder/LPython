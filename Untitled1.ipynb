{
 "cells": [
  {
   "cell_type": "code",
   "execution_count": 3,
   "id": "a66cc32a-0e4c-421f-a30b-ceadbcfe005e",
   "metadata": {},
   "outputs": [
    {
     "name": "stdout",
     "output_type": "stream",
     "text": [
      "30\n",
      "hi, this is Shivam times 1hi, this is Shivam times 2hi, this is Shivam times 3hi, this is Shivam times 4hi, this is Shivam times 5hi, this is Shivam times 6hi, this is Shivam times 7hi, this is Shivam times 8hi, this is Shivam times 9"
     ]
    }
   ],
   "source": [
    "def sheldon_knock():\n",
    "    print(10+20)\n",
    "    for i in range(1,10,1):\n",
    "        print(\"hi, this is Shivam times\",i, end=\"\")\n",
    "sheldon_knock()"
   ]
  },
  {
   "cell_type": "code",
   "execution_count": 12,
   "id": "2651b22d-4e2a-4922-b963-0e9eb19bb732",
   "metadata": {},
   "outputs": [
    {
     "name": "stdout",
     "output_type": "stream",
     "text": [
      "knock knock penny\n",
      "knock knock penny\n",
      "knock knock penny\n",
      "knock knock penny\n"
     ]
    }
   ],
   "source": [
    "# we are giving a default value for number of times the loop gonna run like here it is 4 times, but user can give argument and print accordingly\n",
    "def sheldon_knock(name,nameOfTimes=4):\n",
    "    for i in range (nameOfTimes):\n",
    "     print(\"knock knock {}\".format(name))\n",
    "\n",
    "sheldon_knock(\"penny\")"
   ]
  },
  {
   "cell_type": "code",
   "execution_count": 15,
   "id": "8dbb90b4-1601-4992-a481-31f514d42e54",
   "metadata": {},
   "outputs": [
    {
     "name": "stdout",
     "output_type": "stream",
     "text": [
      "7\n",
      "9\n",
      "error\n",
      "function has been executed\n"
     ]
    }
   ],
   "source": [
    "# returning something \n",
    "\n",
    "def add (a,b):\n",
    "    print(a+b)\n",
    "add(3,4)\n",
    "\n",
    "def add (a,b):\n",
    "    return(a+b)\n",
    "\n",
    "print(add(4,5))\n",
    "\n",
    "def div(a,b):\n",
    "    try:\n",
    "        return a/b\n",
    "    except:\n",
    "        print('error')\n",
    "    finally:\n",
    "        print(\"function has been executed\")\n",
    "div(3,0)\n"
   ]
  },
  {
   "cell_type": "code",
   "execution_count": 20,
   "id": "efd46724-4b55-40b8-b5ae-5dc9ca5a367b",
   "metadata": {},
   "outputs": [
    {
     "name": "stdout",
     "output_type": "stream",
     "text": [
      "15\n",
      "local\n",
      "15\n"
     ]
    }
   ],
   "source": [
    "# local and global varibale\n",
    "\n",
    "x=10\n",
    "def show ():\n",
    "    global x\n",
    "    x +=5\n",
    "    print(x)\n",
    "show()\n",
    "\n",
    "\n",
    "def show ():\n",
    "    y=\"local\"\n",
    "    print(y)\n",
    "    print(x)\n",
    "show()"
   ]
  },
  {
   "cell_type": "code",
   "execution_count": 26,
   "id": "b3e27807-fc86-437e-957b-f0c963f2ed33",
   "metadata": {},
   "outputs": [],
   "source": [
    "del x"
   ]
  },
  {
   "cell_type": "code",
   "execution_count": 29,
   "id": "54acb169-c112-4ed5-98eb-91ba241e0d09",
   "metadata": {},
   "outputs": [],
   "source": [
    "# function inside of another function\n",
    "def outer():\n",
    "    x=10\n",
    "    def inner():\n",
    "        nonlocal x\n",
    "        x+=5\n",
    "        print(x)\n",
    "    inner()\n",
    "    print(x)\n"
   ]
  },
  {
   "cell_type": "code",
   "execution_count": 30,
   "id": "ad6c02a0-7037-48b7-a193-41ffb7ed590e",
   "metadata": {},
   "outputs": [
    {
     "name": "stdout",
     "output_type": "stream",
     "text": [
      "15\n",
      "15\n"
     ]
    }
   ],
   "source": [
    "outer()"
   ]
  },
  {
   "cell_type": "code",
   "execution_count": 36,
   "id": "a29f8e73-a3de-46e2-b2df-3a43b2897687",
   "metadata": {},
   "outputs": [
    {
     "ename": "SyntaxError",
     "evalue": "expected ':' (2547065404.py, line 1)",
     "output_type": "error",
     "traceback": [
      "  \u001b[36mCell\u001b[39m\u001b[36m \u001b[39m\u001b[32mIn[36]\u001b[39m\u001b[32m, line 1\u001b[39m\n\u001b[31m    \u001b[39m\u001b[31mdef abc(a,b,c,d=10,e=20)\u001b[39m\n                            ^\n\u001b[31mSyntaxError\u001b[39m\u001b[31m:\u001b[39m expected ':'\n"
     ]
    }
   ],
   "source": [
    "def abc(a,b,c,d=10,e=20)\n"
   ]
  },
  {
   "cell_type": "code",
   "execution_count": 42,
   "id": "93ae628b-977f-427e-9599-c9ee73be05a5",
   "metadata": {},
   "outputs": [],
   "source": [
    "def show(a,b,c,d=\"Something\", e=\"something more\"):\n",
    "    print(a)\n",
    "    print(b)\n",
    "    print(c)\n",
    "    print(d)\n",
    "    print(e)"
   ]
  },
  {
   "cell_type": "code",
   "execution_count": 43,
   "id": "a31b5b99-0361-410c-90a7-7830f4f42990",
   "metadata": {},
   "outputs": [
    {
     "name": "stdout",
     "output_type": "stream",
     "text": [
      "Shivam\n",
      "hello\n",
      "World\n",
      "Something\n",
      "something more\n"
     ]
    }
   ],
   "source": [
    "show(b=\"hello\",c=\"World\",a=\"Shivam\")"
   ]
  },
  {
   "cell_type": "code",
   "execution_count": 37,
   "id": "a98e72e8-ca57-4390-a64f-c6fc1db91963",
   "metadata": {},
   "outputs": [
    {
     "name": "stdout",
     "output_type": "stream",
     "text": [
      "Shivam\n",
      "hello\n",
      "World\n"
     ]
    }
   ],
   "source": [
    "# this is called keyworded arguments\n",
    "show(b=\"hello\",c=\"World\",a=\"Shivam\")"
   ]
  }
 ],
 "metadata": {
  "kernelspec": {
   "display_name": "Python 3 (ipykernel)",
   "language": "python",
   "name": "python3"
  },
  "language_info": {
   "codemirror_mode": {
    "name": "ipython",
    "version": 3
   },
   "file_extension": ".py",
   "mimetype": "text/x-python",
   "name": "python",
   "nbconvert_exporter": "python",
   "pygments_lexer": "ipython3",
   "version": "3.13.1"
  }
 },
 "nbformat": 4,
 "nbformat_minor": 5
}
